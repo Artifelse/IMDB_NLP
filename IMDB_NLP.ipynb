{
 "cells": [
  {
   "cell_type": "code",
   "execution_count": 119,
   "metadata": {},
   "outputs": [],
   "source": [
    "%matplotlib inline\n",
    "import os\n",
    "import re\n",
    "\n",
    "import pandas as pd\n",
    "import numpy as np\n",
    "import gensim\n",
    "\n",
    "import multiprocessing\n",
    "\n",
    "import seaborn as sns\n",
    "\n",
    "import matplotlib.pyplot as plt\n",
    "import matplotlib.patches as mpatches\n",
    "import matplotlib\n",
    "\n",
    "from sklearn.model_selection import KFold\n",
    "from sklearn.model_selection import GridSearchCV\n",
    "from sklearn.model_selection import train_test_split\n",
    "\n",
    "from sklearn.metrics import confusion_matrix\n",
    "from sklearn.metrics import classification_report\n",
    "from sklearn.metrics import accuracy_score\n",
    "\n",
    "from sklearn.feature_extraction.text import CountVectorizer, TfidfVectorizer\n",
    "from sklearn.decomposition import TruncatedSVD\n",
    "from sklearn.linear_model import LogisticRegression\n",
    "\n",
    "from keras.preprocessing.text import Tokenizer\n",
    "from keras.preprocessing.sequence import pad_sequences\n",
    "\n",
    "from keras.layers import Input\n",
    "from keras.layers import Dense, concatenate, Activation, Dropout\n",
    "from keras.layers.convolutional import Conv1D\n",
    "from keras.layers.pooling import GlobalMaxPooling1D\n",
    "from keras.layers.embeddings import Embedding\n",
    "from keras.callbacks import EarlyStopping  \n",
    "\n",
    "from keras.models import Model\n",
    "from keras.utils import to_categorical\n",
    "\n",
    "from nltk.tokenize import RegexpTokenizer\n",
    "from gensim.models import Word2Vec"
   ]
  },
  {
   "cell_type": "markdown",
   "metadata": {},
   "source": [
    "# Классы (методы)"
   ]
  },
  {
   "cell_type": "code",
   "execution_count": 120,
   "metadata": {},
   "outputs": [],
   "source": [
    "class Preprocessing(object):\n",
    "    \n",
    "    def preproc_df(df, text_field, digits = False):\n",
    "        \"\"\"\n",
    "        Предобработка текста, предназначения для DataFrame.\n",
    "        \n",
    "        Параметры:\n",
    "        ***************************************************\n",
    "        df - DataFrame.\n",
    "        text_field - название столбца, в котором требуется предобработка текста.\n",
    "        digits - оставить числа (по умолчанию False).\n",
    "        ***************************************************\n",
    "        Возвращает: Обработанный DataFrame.\n",
    "        ***************************************************\n",
    "        \"\"\"\n",
    "        df[text_field] = df[text_field].str.replace(r\"<.*?>\", \"\")\n",
    "        if digits:\n",
    "            df[text_field] = df[text_field].str.replace(r\"[^A-Za-z0-9']\", \" \") \n",
    "        else:\n",
    "            df[text_field] = df[text_field].str.replace(r\"[^A-Za-z']\", \" \")\n",
    "        df[text_field] = df[text_field].str.replace('  ', ' ')\n",
    "        df[text_field] = df[text_field].str.lower()\n",
    "        return df\n",
    "\n",
    "    \n",
    "    def preproc_list(text, digits = False):\n",
    "        \"\"\"\n",
    "        Предобработка текста. \n",
    "        \n",
    "        Параметры:\n",
    "        ***********************************************\n",
    "        text - текст.\n",
    "        digits - оставить числа (по умолчанию False).\n",
    "        ***********************************************\n",
    "        Возвращает: обработанный текст.\n",
    "        ***********************************************\n",
    "        \"\"\"\n",
    "        text = re.sub(r\"<.*?>\", ' ', text)\n",
    "        if digits:\n",
    "            text = re.sub(r\"[^A-Za-z0-9']\", \" \", text)\n",
    "        else:\n",
    "            text = re.sub(r\"[^A-Za-z']\", \" \", text)\n",
    "        text = re.sub('  ', ' ', text)\n",
    "        text = text.lower()\n",
    "        return text.strip()"
   ]
  },
  {
   "cell_type": "code",
   "execution_count": 231,
   "metadata": {},
   "outputs": [],
   "source": [
    "class Vectorizer(object):\n",
    "    \n",
    "    def cv(data):\n",
    "        \"\"\"\n",
    "        Матрица вхождений.\n",
    "        \n",
    "        Параметры:\n",
    "        ***********************************************\n",
    "        data - Данные.\n",
    "        ***********************************************\n",
    "        Возвращает:  \n",
    "        matrix - матрица вхождений (документ*словарь)\n",
    "        count_vectorizer - объект.\n",
    "        ***********************************************\n",
    "        \"\"\"   \n",
    "        cv_vectorizer = CountVectorizer()\n",
    "        matrix = cv_vectorizer.fit_transform(data)\n",
    "        return matrix, cv_vectorizer\n",
    "\n",
    "\n",
    "    def tf_idf(data): \n",
    "        \"\"\"\n",
    "        Переводит матрицу в матрицу - документ*словарь(tf-idf)\n",
    "        \n",
    "        Параметры:\n",
    "        ***********************************************\n",
    "        data - данные в текстовом виде.\n",
    "        ***********************************************\n",
    "        Возвращает:\n",
    "        train - матрица документ*словарь\n",
    "        tf_idf_vectorizer - объект. \n",
    "        ***********************************************\n",
    "        \"\"\"       \n",
    "        tf_idf_vectorizer = TfidfVectorizer() \n",
    "        matrix  = tf_idf_vectorizer.fit_transform(data)\n",
    "        return matrix, tf_idf_vectorizer\n",
    "\n",
    "\n",
    "    def get_important_features(vectorizer, model, n=5):\n",
    "        \"\"\"\n",
    "        Позволяет получить важные признаки для каждого из 2 классов. \n",
    "        \n",
    "        Параметры:\n",
    "        ***********************************************\n",
    "        vectorizer - объект.\n",
    "        model - обученная модель.\n",
    "        n - кол-во важных признаков.\n",
    "        ************************************************\n",
    "        Возвращает:\n",
    "        positive_important - топ важных признаков для класса 1.\n",
    "        negative_important - топ важных признаков для класса 0.\n",
    "        ***********************************************\n",
    "        \"\"\"   \n",
    "        index_to_word = {v:k for k,v in vectorizer.vocabulary_.items()}\n",
    "        word_importances = [(coef, index_to_word[index]) for index,coef in enumerate(model.coef_[0])]\n",
    "        sorted_coeff = sorted(word_importances, key = lambda x: x[0], reverse=True)\n",
    "        positive_important = sorted_coeff[:n]\n",
    "        negative_important = sorted_coeff[-n:][::-1]\n",
    "        return positive_important, negative_important\n",
    "\n",
    "    def parameters_for_log(X_train, y_train, step, stop):\n",
    "        \n",
    "        \"\"\"\n",
    "        Позволяет получить важные признаки для каждого из 2 классов. \n",
    "        \n",
    "        Параметры:\n",
    "        ***********************************************\n",
    "        X_train - тренеровочная выборка.\n",
    "        y_train - метки классов.\n",
    "        step - шаг для выбора параметра (регуляризация).\n",
    "        stop - максимальный параметр.\n",
    "        ************************************************\n",
    "        Возвращает:\n",
    "        positive_important - топ важных признаков для класса 1.\n",
    "        negative_important - топ важных признаков для класса 0.\n",
    "        ***********************************************\n",
    "        \"\"\"   \n",
    "    \n",
    "        #Код для подбора C и регуляризации L1 и L2, Проверяется на кросс-валидации.\n",
    "        grid = {'C' : np.arange(0.5,stop,step), 'penalty' : ['l2','l1']}\n",
    "        cv = KFold(n_splits=5, shuffle=True, random_state=241)\n",
    "        model = LogisticRegression(class_weight='balanced', n_jobs=1, random_state=999)\n",
    "        gs = GridSearchCV(model, grid, scoring='accuracy', cv=cv, verbose=1)\n",
    "        gs.fit(X_train, y_train)\n",
    "\n",
    "        for a in gs.grid_scores_:\n",
    "            print(a.parameters)\n",
    "            print(a.mean_validation_score)\n",
    "            print('\\n')\n",
    "    \n",
    "    "
   ]
  },
  {
   "cell_type": "code",
   "execution_count": 244,
   "metadata": {},
   "outputs": [],
   "source": [
    "class Extra (object):\n",
    "    \n",
    "    def plot_LSA(data, labels, s = 8, size_leg = 20):\n",
    "        \"\"\"\n",
    "        # Проецирует признаки на двумерную плоскость с помощью SVD и задает scatterplot.\n",
    "        \n",
    "        Параметры:\n",
    "        ***************************************************\n",
    "        data - данные.\n",
    "        labels - метки\n",
    "        s - размер точек.\n",
    "        size_leg - размер легенды (по умолчанию 20).\n",
    "        ***************************************************\n",
    "        Возвращает: ничего.\n",
    "        ***************************************************\n",
    "        \"\"\"\n",
    "        lsa = TruncatedSVD(n_components=2)\n",
    "        lsa.fit(data)\n",
    "        lsa_scores = lsa.transform(data)\n",
    "        colors = ['red','blue']\n",
    "        plt.scatter(lsa_scores[:,0], lsa_scores[:,1], s=s, alpha=1, c=labels, cmap=matplotlib.colors.ListedColormap(colors))\n",
    "            \n",
    "        red_patch = mpatches.Patch(color='red', label='Negative')\n",
    "        blue_patch = mpatches.Patch(color='blue', label='Positive')\n",
    "        plt.legend(handles=[red_patch, blue_patch], prop={'size': size_leg}, loc = 'upper right')\n",
    "        \n",
    "        \n",
    "    def cm_matrix (y_test, y_predict, cm_print = False ):\n",
    "        \"\"\"\n",
    "        # Выводит матрицу ошибок (графический и текстовый вид).\n",
    "        \n",
    "        Параметры:\n",
    "        ***************************************************\n",
    "        y_test - тестовые данные.\n",
    "        y_predict - метки\n",
    "        cm_print - размер точек.\n",
    "        ***************************************************\n",
    "        Возвращает: ничего.\n",
    "        ***************************************************\n",
    "        \"\"\"\n",
    "        conf_matrix = confusion_matrix(y_test, y_predict)\n",
    "        if cm_print:\n",
    "            tn, fp, fn, tp = conf_matrix.ravel()\n",
    "            print('TN:{0}  FP:{1}'.format(tn,fp))\n",
    "            print('FN:{0}  TP:{1}'.format(fn,tp))\n",
    "            print('   predictor')\n",
    "        sns.heatmap(conf_matrix, linewidths=0, annot = True, fmt = 'd', cbar=True)"
   ]
  },
  {
   "cell_type": "markdown",
   "metadata": {},
   "source": [
    "# Загружаем данные"
   ]
  },
  {
   "cell_type": "code",
   "execution_count": 123,
   "metadata": {},
   "outputs": [],
   "source": [
    "# Получаем список \n",
    "directory = 'D:/DATASET/IMDB_NLP/train/pos/' \n",
    "files = os.listdir(directory)\n",
    "\n",
    "positive_comment = []\n",
    "for file in files:\n",
    "    with open('D:/DATASET/IMDB_NLP/train/pos/{}'.format(file),'r',encoding='utf-8') as f:\n",
    "        positive_comment.append(f.read())"
   ]
  },
  {
   "cell_type": "code",
   "execution_count": 124,
   "metadata": {},
   "outputs": [],
   "source": [
    "# Получаем список \n",
    "directory = 'D:/DATASET/IMDB_NLP/train/neg/' \n",
    "files = os.listdir(directory)\n",
    "\n",
    "negative_comment = []\n",
    "for file in files:\n",
    "    with open('D:/DATASET/IMDB_NLP/train/neg/{}'.format(file),'r',encoding='utf-8') as f:\n",
    "        negative_comment.append(f.read())"
   ]
  },
  {
   "cell_type": "markdown",
   "metadata": {},
   "source": [
    "# Объединение данных."
   ]
  },
  {
   "cell_type": "code",
   "execution_count": 125,
   "metadata": {},
   "outputs": [],
   "source": [
    "# Добавляем метки и объединяем.\n",
    "lp = [1 for i in np.arange(len(positive_comment))]\n",
    "ln = [0 for i in np.arange(len(negative_comment))]\n",
    "\n",
    "neg_text_score = list(zip(negative_comment, ln))\n",
    "pos_text_score = list(zip(positive_comment, lp))\n",
    "np_text_score = pos_text_score + neg_text_score"
   ]
  },
  {
   "cell_type": "code",
   "execution_count": 126,
   "metadata": {},
   "outputs": [],
   "source": [
    "# Делаем DataFrame table\n",
    "data = pd.DataFrame(np_text_score, columns=['TEXT','LABEL'])\n",
    "\n",
    "# Размешать строки (frac = 1 - все строки размешать, drop = True - удалить старые)\n",
    "data = data.sample(frac=1).reset_index(drop=True)"
   ]
  },
  {
   "cell_type": "code",
   "execution_count": 127,
   "metadata": {},
   "outputs": [
    {
     "name": "stdout",
     "output_type": "stream",
     "text": [
      "<class 'pandas.core.frame.DataFrame'>\n",
      "RangeIndex: 25000 entries, 0 to 24999\n",
      "Data columns (total 2 columns):\n",
      "TEXT     25000 non-null object\n",
      "LABEL    25000 non-null int64\n",
      "dtypes: int64(1), object(1)\n",
      "memory usage: 390.7+ KB\n"
     ]
    }
   ],
   "source": [
    "data.info(verbose=True, null_counts=True, max_cols= True, memory_usage=True)"
   ]
  },
  {
   "cell_type": "markdown",
   "metadata": {},
   "source": [
    "# Препроцессинг DF"
   ]
  },
  {
   "cell_type": "code",
   "execution_count": 128,
   "metadata": {},
   "outputs": [],
   "source": [
    "# Процесс предобработки данных.\n",
    "data = Preprocessing.preproc_df(data,'TEXT', digits=True)"
   ]
  },
  {
   "cell_type": "code",
   "execution_count": 129,
   "metadata": {},
   "outputs": [
    {
     "data": {
      "text/plain": [
       "\" iowa wants to be requiem for a dream for midwest meth but it comes across as a hard r rated reefer madness  yes drugs are bad and meth is horribly pernicious as an addiction and how it destroys people families and communities but these characters who are either dumb or ridiculous and the eye rolling plot won't teach that lesson to anyone while writer director star matt farnsworth has some charisma on screen his partner diane foster plays a wincibly silly wide eyed innocent corrupted by drugsas was already satirized by susan sarandon in the rocky horror picture show  i really felt sorry for her for all the totally unnecessary nudity she was put through it wasn't until the end of the film that i realized i was supposed to think these two were recent high school graduates to explain some of their naivet  as we are bombarded by their school photos but if so they even looked older than the folks on the o c  while they have good chemistry on screen they are a pale imitation of a badlands type couple the guest stars are badly used michael t weiss who was so good in tv's the pretender  is completely ludicrous as a corrupt parole officer and his brutal violence is just plain crazy as his character pretty much ruins any social significance for the film rosanna arquette has to be even sleazier than she rolled around for david cronenberg as a very low rent livia soprano john savage even has to mouth the old baby boomer excuses about i did pot but this is worse a goth chick shows up with the odd explanation that she's a stripper from des moines the obligatory latino drug dealer appears  in iowa with a limited budget the interior view of meth use is portrayed quite vividly with quite scary hallucinations we certainly see them go crazy while the iowa locations are used very well including an amusing scene of a propane gas robbery  the accents and church references are confusingly southern baptist guns seem to be used by law abiding and law breaking citizens here more than in any inner city drug dealing movie the songs of iowa's best known bard greg brown are used throughout but oddly are not listed in the credits i hope they were used with permission i caught this at its commercial run in nyc because i missed it at the tribeca film festival where it got considerable  and inexplicable  buzz \""
      ]
     },
     "execution_count": 129,
     "metadata": {},
     "output_type": "execute_result"
    }
   ],
   "source": [
    "# Проверим данные после предобработки\n",
    "data.loc[23500, 'TEXT']"
   ]
  },
  {
   "cell_type": "code",
   "execution_count": 130,
   "metadata": {},
   "outputs": [
    {
     "data": {
      "text/html": [
       "<div>\n",
       "<style scoped>\n",
       "    .dataframe tbody tr th:only-of-type {\n",
       "        vertical-align: middle;\n",
       "    }\n",
       "\n",
       "    .dataframe tbody tr th {\n",
       "        vertical-align: top;\n",
       "    }\n",
       "\n",
       "    .dataframe thead th {\n",
       "        text-align: right;\n",
       "    }\n",
       "</style>\n",
       "<table border=\"1\" class=\"dataframe\">\n",
       "  <thead>\n",
       "    <tr style=\"text-align: right;\">\n",
       "      <th></th>\n",
       "      <th>TEXT</th>\n",
       "    </tr>\n",
       "    <tr>\n",
       "      <th>LABEL</th>\n",
       "      <th></th>\n",
       "    </tr>\n",
       "  </thead>\n",
       "  <tbody>\n",
       "    <tr>\n",
       "      <th>0</th>\n",
       "      <td>12500</td>\n",
       "    </tr>\n",
       "    <tr>\n",
       "      <th>1</th>\n",
       "      <td>12500</td>\n",
       "    </tr>\n",
       "  </tbody>\n",
       "</table>\n",
       "</div>"
      ],
      "text/plain": [
       "        TEXT\n",
       "LABEL       \n",
       "0      12500\n",
       "1      12500"
      ]
     },
     "execution_count": 130,
     "metadata": {},
     "output_type": "execute_result"
    }
   ],
   "source": [
    "# Проверяем на соотношение данных.\n",
    "data.groupby('LABEL').count()"
   ]
  },
  {
   "cell_type": "markdown",
   "metadata": {},
   "source": [
    "#  Токенезация текста"
   ]
  },
  {
   "cell_type": "code",
   "execution_count": 131,
   "metadata": {},
   "outputs": [
    {
     "data": {
      "text/html": [
       "<div>\n",
       "<style scoped>\n",
       "    .dataframe tbody tr th:only-of-type {\n",
       "        vertical-align: middle;\n",
       "    }\n",
       "\n",
       "    .dataframe tbody tr th {\n",
       "        vertical-align: top;\n",
       "    }\n",
       "\n",
       "    .dataframe thead th {\n",
       "        text-align: right;\n",
       "    }\n",
       "</style>\n",
       "<table border=\"1\" class=\"dataframe\">\n",
       "  <thead>\n",
       "    <tr style=\"text-align: right;\">\n",
       "      <th></th>\n",
       "      <th>TEXT</th>\n",
       "      <th>LABEL</th>\n",
       "      <th>TOKENS</th>\n",
       "    </tr>\n",
       "  </thead>\n",
       "  <tbody>\n",
       "    <tr>\n",
       "      <th>0</th>\n",
       "      <td>the late 80's saw an inexplicable rash of supe...</td>\n",
       "      <td>0</td>\n",
       "      <td>[the, late, 80, s, saw, an, inexplicable, rash...</td>\n",
       "    </tr>\n",
       "    <tr>\n",
       "      <th>1</th>\n",
       "      <td>some genre films need to be dressed up this on...</td>\n",
       "      <td>1</td>\n",
       "      <td>[some, genre, films, need, to, be, dressed, up...</td>\n",
       "    </tr>\n",
       "    <tr>\n",
       "      <th>2</th>\n",
       "      <td>there is a scene in dan in real life where the...</td>\n",
       "      <td>1</td>\n",
       "      <td>[there, is, a, scene, in, dan, in, real, life,...</td>\n",
       "    </tr>\n",
       "    <tr>\n",
       "      <th>3</th>\n",
       "      <td>the cat's meow contains a few scenes that boa...</td>\n",
       "      <td>0</td>\n",
       "      <td>[the, cat, s, meow, contains, a, few, scenes, ...</td>\n",
       "    </tr>\n",
       "    <tr>\n",
       "      <th>4</th>\n",
       "      <td>oh dear we don't like it when our super hero l...</td>\n",
       "      <td>1</td>\n",
       "      <td>[oh, dear, we, don, t, like, it, when, our, su...</td>\n",
       "    </tr>\n",
       "  </tbody>\n",
       "</table>\n",
       "</div>"
      ],
      "text/plain": [
       "                                                TEXT  LABEL  \\\n",
       "0  the late 80's saw an inexplicable rash of supe...      0   \n",
       "1  some genre films need to be dressed up this on...      1   \n",
       "2  there is a scene in dan in real life where the...      1   \n",
       "3   the cat's meow contains a few scenes that boa...      0   \n",
       "4  oh dear we don't like it when our super hero l...      1   \n",
       "\n",
       "                                              TOKENS  \n",
       "0  [the, late, 80, s, saw, an, inexplicable, rash...  \n",
       "1  [some, genre, films, need, to, be, dressed, up...  \n",
       "2  [there, is, a, scene, in, dan, in, real, life,...  \n",
       "3  [the, cat, s, meow, contains, a, few, scenes, ...  \n",
       "4  [oh, dear, we, don, t, like, it, when, our, su...  "
      ]
     },
     "execution_count": 131,
     "metadata": {},
     "output_type": "execute_result"
    }
   ],
   "source": [
    "# Токенезируем наш текст.\n",
    "token_words = RegexpTokenizer(r'\\w+')\n",
    "\n",
    "data['TOKENS'] = data['TEXT'].apply(token_words.tokenize)\n",
    "data.head()"
   ]
  },
  {
   "cell_type": "code",
   "execution_count": 132,
   "metadata": {
    "scrolled": true
   },
   "outputs": [
    {
     "data": {
      "image/png": "[encoded data removed]",
      "text/plain": [
       "<Figure size 360x360 with 1 Axes>"
      ]
     },
     "metadata": {},
     "output_type": "display_data"
    }
   ],
   "source": [
    "# Распределение кол-ва слов в предложении.\n",
    "len_text = [len(sentence) for sentence in data['TOKENS']]\n",
    "fig = plt.figure(figsize=(5, 5)) \n",
    "plt.xlabel('Sentence length')\n",
    "plt.ylabel('Number of sentences')\n",
    "plt.hist(len_text)\n",
    "plt.show()"
   ]
  },
  {
   "cell_type": "code",
   "execution_count": 133,
   "metadata": {},
   "outputs": [
    {
     "name": "stdout",
     "output_type": "stream",
     "text": [
      "Длина самого большого предложения: 2498\n",
      "Длина самого маленкього предложения: 10\n"
     ]
    }
   ],
   "source": [
    "print('Длина самого большого предложения:', max(len_text))\n",
    "print('Длина самого маленкього предложения:', min(len_text))"
   ]
  },
  {
   "cell_type": "markdown",
   "metadata": {},
   "source": [
    "# Bag of Words"
   ]
  },
  {
   "cell_type": "code",
   "execution_count": 134,
   "metadata": {},
   "outputs": [],
   "source": [
    "# Векторизуем, как матрица вхождений\n",
    "X = data['TEXT'].tolist()\n",
    "y = data['LABEL'].tolist()\n",
    "\n",
    "X_train, X_test, y_train, y_test = train_test_split(X,y, test_size=0.2, random_state=999)\n",
    "\n",
    "X_train_bow, count_vectorizer = Vectorizer.cv(X_train)\n",
    "X_test_bow = count_vectorizer.transform(X_test)"
   ]
  },
  {
   "cell_type": "code",
   "execution_count": 135,
   "metadata": {},
   "outputs": [
    {
     "name": "stdout",
     "output_type": "stream",
     "text": [
      "Bag of words train: (20000, 69071)\n",
      "Bag of words test: (5000, 69071)\n"
     ]
    }
   ],
   "source": [
    "print('Bag of words train:', X_train_bow.shape)\n",
    "print('Bag of words test:', X_test_bow.shape)"
   ]
  },
  {
   "cell_type": "markdown",
   "metadata": {},
   "source": [
    "# Метод для рисования признаков (SVD)"
   ]
  },
  {
   "cell_type": "code",
   "execution_count": 240,
   "metadata": {},
   "outputs": [
    {
     "data": {
      "image/png": "[encoded data removed]",
      "text/plain": [
       "<Figure size 504x504 with 1 Axes>"
      ]
     },
     "metadata": {},
     "output_type": "display_data"
    }
   ],
   "source": [
    "# Метод, который проецирует признаки на двумерную плоскость с помощью SVD.\n",
    "fig = plt.figure(figsize=(7, 7))          \n",
    "Extra.plot_LSA(X_train_bow, y_train, s = 6, size_leg = 10)\n",
    "plt.show()"
   ]
  },
  {
   "cell_type": "markdown",
   "metadata": {},
   "source": [
    "# Подбор параметров на кросс-валидации"
   ]
  },
  {
   "cell_type": "code",
   "execution_count": 137,
   "metadata": {},
   "outputs": [
    {
     "name": "stdout",
     "output_type": "stream",
     "text": [
      "Fitting 5 folds for each of 8 candidates, totalling 40 fits\n"
     ]
    },
    {
     "name": "stderr",
     "output_type": "stream",
     "text": [
      "[Parallel(n_jobs=1)]: Done  40 out of  40 | elapsed:  2.7min finished\n"
     ]
    },
    {
     "name": "stdout",
     "output_type": "stream",
     "text": [
      "{'C': 0.5, 'penalty': 'l2'}\n",
      "0.87775\n",
      "\n",
      "\n",
      "{'C': 0.5, 'penalty': 'l1'}\n",
      "0.87165\n",
      "\n",
      "\n",
      "{'C': 5.5, 'penalty': 'l2'}\n",
      "0.8697\n",
      "\n",
      "\n",
      "{'C': 5.5, 'penalty': 'l1'}\n",
      "0.85825\n",
      "\n",
      "\n",
      "{'C': 10.5, 'penalty': 'l2'}\n",
      "0.8682\n",
      "\n",
      "\n",
      "{'C': 10.5, 'penalty': 'l1'}\n",
      "0.8567\n",
      "\n",
      "\n",
      "{'C': 15.5, 'penalty': 'l2'}\n",
      "0.86755\n",
      "\n",
      "\n",
      "{'C': 15.5, 'penalty': 'l1'}\n",
      "0.85565\n",
      "\n",
      "\n",
      "Wall time: 2min 45s\n"
     ]
    },
    {
     "name": "stderr",
     "output_type": "stream",
     "text": [
      "D:\\AnacondaP2\\lib\\site-packages\\sklearn\\model_selection\\_search.py:761: DeprecationWarning: The grid_scores_ attribute was deprecated in version 0.18 in favor of the more elaborate cv_results_ attribute. The grid_scores_ attribute will not be available from 0.20\n",
      "  DeprecationWarning)\n"
     ]
    }
   ],
   "source": [
    "%%time\n",
    "Vectorizer.parameters_for_log(X_train_bow, y_train, step=5, stop=20)"
   ]
  },
  {
   "cell_type": "markdown",
   "metadata": {},
   "source": [
    "# Модель логистической регрессии"
   ]
  },
  {
   "cell_type": "code",
   "execution_count": 138,
   "metadata": {},
   "outputs": [
    {
     "name": "stdout",
     "output_type": "stream",
     "text": [
      "Wall time: 8.79 s\n"
     ]
    }
   ],
   "source": [
    "%%time\n",
    "# Строим модель - логистическую регрессию.\n",
    "model = LogisticRegression(C = 0.5, penalty='l2', class_weight='balanced', solver = 'newton-cg', n_jobs=1, random_state=999)\n",
    "model.fit(X_train_bow, y_train)\n",
    "\n",
    "y_predict = model.predict(X_test_bow)"
   ]
  },
  {
   "cell_type": "markdown",
   "metadata": {},
   "source": [
    "# Оценка модели"
   ]
  },
  {
   "cell_type": "code",
   "execution_count": 139,
   "metadata": {},
   "outputs": [
    {
     "name": "stdout",
     "output_type": "stream",
     "text": [
      "accuracy: 0.887\n",
      "\n",
      "             precision    recall  f1-score   support\n",
      "\n",
      "          0      0.892     0.876     0.884      2454\n",
      "          1      0.883     0.897     0.890      2546\n",
      "\n",
      "avg / total      0.887     0.887     0.887      5000\n",
      "\n"
     ]
    }
   ],
   "source": [
    "# Определим функцию для оценки модели\n",
    "print('accuracy: {0}\\n'.format(accuracy_score(y_test, y_predict)))\n",
    "print(classification_report(y_test, y_predict, digits=3))"
   ]
  },
  {
   "cell_type": "code",
   "execution_count": 245,
   "metadata": {},
   "outputs": [
    {
     "name": "stdout",
     "output_type": "stream",
     "text": [
      "TN:2150  FP:304\n",
      "FN:261  TP:2285\n",
      "   predictor\n"
     ]
    },
    {
     "data": {
      "image/png": "[encoded data removed]",
      "text/plain": [
       "<Figure size 432x288 with 2 Axes>"
      ]
     },
     "metadata": {},
     "output_type": "display_data"
    }
   ],
   "source": [
    "# Матрица ошибок.\n",
    "Extra.cm_matrix(y_test=y_test, y_predict=y_predict, cm_print=True)"
   ]
  },
  {
   "cell_type": "markdown",
   "metadata": {},
   "source": [
    "# Главные признаки по верси bow для logistic regression"
   ]
  },
  {
   "cell_type": "code",
   "execution_count": 141,
   "metadata": {},
   "outputs": [],
   "source": [
    "pos_feature, neg_feature = Vectorizer.get_important_features(count_vectorizer, model, n = 10)"
   ]
  },
  {
   "cell_type": "code",
   "execution_count": 142,
   "metadata": {},
   "outputs": [
    {
     "data": {
      "text/plain": [
       "[(-1.8632512509248982, 'worst'),\n",
       " (-1.8468159023214201, 'waste'),\n",
       " (-1.6260537993775586, 'disappointment'),\n",
       " (-1.566126640741882, 'awful'),\n",
       " (-1.4728022536085195, 'boring'),\n",
       " (-1.4541883555352342, 'poorly'),\n",
       " (-1.3265611788356748, 'lacks'),\n",
       " (-1.2978364773320699, 'mess'),\n",
       " (-1.1923060051805419, 'horrible'),\n",
       " (-1.1483152365065217, 'alright')]"
      ]
     },
     "execution_count": 142,
     "metadata": {},
     "output_type": "execute_result"
    }
   ],
   "source": [
    "neg_feature"
   ]
  },
  {
   "cell_type": "code",
   "execution_count": 143,
   "metadata": {},
   "outputs": [
    {
     "data": {
      "text/plain": [
       "[(1.193628516202395, 'refreshing'),\n",
       " (1.1899047090926065, 'excellent'),\n",
       " (1.1022365385478405, 'funniest'),\n",
       " (1.0869462271581336, 'perfect'),\n",
       " (1.0857692519871318, 'rare'),\n",
       " (1.0848626508231753, 'superb'),\n",
       " (1.0551566315587997, 'surprisingly'),\n",
       " (0.9986353475085676, 'wonderfully'),\n",
       " (0.954331968038489, 'flight'),\n",
       " (0.94418046045325, 'wonderful')]"
      ]
     },
     "execution_count": 143,
     "metadata": {},
     "output_type": "execute_result"
    }
   ],
   "source": [
    "pos_feature"
   ]
  },
  {
   "cell_type": "markdown",
   "metadata": {},
   "source": [
    "# TF-IDF"
   ]
  },
  {
   "cell_type": "code",
   "execution_count": 144,
   "metadata": {},
   "outputs": [],
   "source": [
    "# Преобразовываем тренеровочную выборку и тестовую в TF-IDF\n",
    "X_train_ti, ti_vectorizer = Vectorizer.tf_idf(X_train)\n",
    "X_test_ti = ti_vectorizer.transform(X_test)"
   ]
  },
  {
   "cell_type": "code",
   "execution_count": 145,
   "metadata": {},
   "outputs": [
    {
     "data": {
      "text/plain": [
       "(20000, 69071)"
      ]
     },
     "execution_count": 145,
     "metadata": {},
     "output_type": "execute_result"
    }
   ],
   "source": [
    "X_train_ti.shape"
   ]
  },
  {
   "cell_type": "code",
   "execution_count": 242,
   "metadata": {},
   "outputs": [
    {
     "data": {
      "image/png": "[encoded data removed]",
      "text/plain": [
       "<Figure size 432x432 with 1 Axes>"
      ]
     },
     "metadata": {},
     "output_type": "display_data"
    }
   ],
   "source": [
    "# График разбросонности для TF-IDF\n",
    "fig = plt.figure(figsize=(6, 6)) \n",
    "Extra.plot_LSA(X_train_ti, y_train, s=5, size_leg=10)\n",
    "plt.show()"
   ]
  },
  {
   "cell_type": "markdown",
   "metadata": {},
   "source": [
    "# Логистическая регрессия."
   ]
  },
  {
   "cell_type": "code",
   "execution_count": 147,
   "metadata": {},
   "outputs": [
    {
     "name": "stdout",
     "output_type": "stream",
     "text": [
      "Fitting 5 folds for each of 8 candidates, totalling 40 fits\n"
     ]
    },
    {
     "name": "stderr",
     "output_type": "stream",
     "text": [
      "[Parallel(n_jobs=1)]: Done  40 out of  40 | elapsed:   44.3s finished\n"
     ]
    },
    {
     "name": "stdout",
     "output_type": "stream",
     "text": [
      "{'C': 0.5, 'penalty': 'l2'}\n",
      "0.8734\n",
      "\n",
      "\n",
      "{'C': 0.5, 'penalty': 'l1'}\n",
      "0.84895\n",
      "\n",
      "\n",
      "{'C': 5.5, 'penalty': 'l2'}\n",
      "0.8891\n",
      "\n",
      "\n",
      "{'C': 5.5, 'penalty': 'l1'}\n",
      "0.87705\n",
      "\n",
      "\n",
      "{'C': 10.5, 'penalty': 'l2'}\n",
      "0.8886\n",
      "\n",
      "\n",
      "{'C': 10.5, 'penalty': 'l1'}\n",
      "0.8725\n",
      "\n",
      "\n",
      "{'C': 15.5, 'penalty': 'l2'}\n",
      "0.8882\n",
      "\n",
      "\n",
      "{'C': 15.5, 'penalty': 'l1'}\n",
      "0.8699\n",
      "\n",
      "\n"
     ]
    },
    {
     "name": "stderr",
     "output_type": "stream",
     "text": [
      "D:\\AnacondaP2\\lib\\site-packages\\sklearn\\model_selection\\_search.py:761: DeprecationWarning: The grid_scores_ attribute was deprecated in version 0.18 in favor of the more elaborate cv_results_ attribute. The grid_scores_ attribute will not be available from 0.20\n",
      "  DeprecationWarning)\n"
     ]
    }
   ],
   "source": [
    "Vectorizer.parameters_for_log(X_train_ti, y_train,step=5, stop=20)"
   ]
  },
  {
   "cell_type": "code",
   "execution_count": 148,
   "metadata": {},
   "outputs": [
    {
     "name": "stdout",
     "output_type": "stream",
     "text": [
      "Wall time: 2.46 s\n"
     ]
    }
   ],
   "source": [
    "%%time\n",
    "# Строим модель для TF-IDF - логистическую регрессию.\n",
    "model_ti = LogisticRegression(C =5, penalty='l2', class_weight='balanced', \n",
    "                              solver = 'newton-cg', n_jobs=1, random_state=999)\n",
    "model_ti.fit(X_train_ti, y_train)\n",
    "\n",
    "y_predict_ti = model.predict(X_test_ti)"
   ]
  },
  {
   "cell_type": "code",
   "execution_count": 149,
   "metadata": {},
   "outputs": [
    {
     "name": "stdout",
     "output_type": "stream",
     "text": [
      "accuracy: 0.8712\n",
      "\n",
      "             precision    recall  f1-score   support\n",
      "\n",
      "          0      0.917     0.811     0.861      2454\n",
      "          1      0.836     0.929     0.880      2546\n",
      "\n",
      "avg / total      0.876     0.871     0.871      5000\n",
      "\n"
     ]
    }
   ],
   "source": [
    "# Оценка модели.\n",
    "print('accuracy: {0}\\n'.format(accuracy_score(y_test, y_predict_ti)))\n",
    "print(classification_report(y_test, y_predict_ti, digits=3))"
   ]
  },
  {
   "cell_type": "code",
   "execution_count": 246,
   "metadata": {},
   "outputs": [
    {
     "name": "stdout",
     "output_type": "stream",
     "text": [
      "TN:1990  FP:464\n",
      "FN:180  TP:2366\n",
      "   predictor\n"
     ]
    },
    {
     "data": {
      "image/png": "[encoded data removed]",
      "text/plain": [
       "<Figure size 432x288 with 2 Axes>"
      ]
     },
     "metadata": {},
     "output_type": "display_data"
    }
   ],
   "source": [
    "Extra.cm_matrix(y_test, y_predict_ti, cm_print=True)"
   ]
  },
  {
   "cell_type": "markdown",
   "metadata": {},
   "source": [
    "# Главные признаки по версии TF-IDF"
   ]
  },
  {
   "cell_type": "code",
   "execution_count": 151,
   "metadata": {},
   "outputs": [],
   "source": [
    "# Получаем главные признаки tf-idf.\n",
    "pos_feature_ti, neg_feature_ti = Vectorizer.get_important_features(ti_vectorizer, model_ti, 10)"
   ]
  },
  {
   "cell_type": "code",
   "execution_count": 152,
   "metadata": {},
   "outputs": [
    {
     "data": {
      "text/plain": [
       "[(-13.792804724875976, 'worst'),\n",
       " (-10.568452225063373, 'awful'),\n",
       " (-9.944917536730626, 'waste'),\n",
       " (-9.609362400548045, 'boring'),\n",
       " (-8.784188627852782, 'bad'),\n",
       " (-7.775576137015211, 'poor'),\n",
       " (-7.397943402862398, 'worse'),\n",
       " (-7.17742878792259, 'nothing'),\n",
       " (-7.094643802117312, 'unfortunately'),\n",
       " (-7.061444549085093, 'disappointment')]"
      ]
     },
     "execution_count": 152,
     "metadata": {},
     "output_type": "execute_result"
    }
   ],
   "source": [
    "neg_feature_ti"
   ]
  },
  {
   "cell_type": "code",
   "execution_count": 153,
   "metadata": {},
   "outputs": [
    {
     "data": {
      "text/plain": [
       "[(9.546536747812292, 'excellent'),\n",
       " (9.480856874587241, 'great'),\n",
       " (7.627576149003102, 'perfect'),\n",
       " (7.0844498550525214, 'wonderful'),\n",
       " (7.0562481600058975, 'best'),\n",
       " (5.935188911836304, 'favorite'),\n",
       " (5.871492771717381, 'amazing'),\n",
       " (5.771815512901667, 'superb'),\n",
       " (5.729453527724319, 'today'),\n",
       " (5.587480752292499, 'loved')]"
      ]
     },
     "execution_count": 153,
     "metadata": {},
     "output_type": "execute_result"
    }
   ],
   "source": [
    "pos_feature_ti"
   ]
  },
  {
   "cell_type": "markdown",
   "metadata": {},
   "source": [
    "# CNN for NLP"
   ]
  },
  {
   "cell_type": "code",
   "execution_count": 197,
   "metadata": {},
   "outputs": [],
   "source": [
    "# Формируем данные для word2vec\n",
    "w2v_input_data = [Preprocessing.preproc_list(text) for text in positive_comment+negative_comment]\n",
    "labels = lp+ln\n",
    "\n",
    "# Разбиваем данные на тренеровочную и тестовую.\n",
    "X_train_w2v, X_test_w2v, y_train_w2v, y_test_w2v = train_test_split(w2v_input_data, labels, test_size=0.2, random_state=999)\n",
    "\n",
    "# Записываем набор слов в файл. \n",
    "with open('DATA.txt', 'w', encoding='utf-8') as f:\n",
    "    f.writelines(w2v_input_data)"
   ]
  },
  {
   "cell_type": "code",
   "execution_count": 198,
   "metadata": {},
   "outputs": [],
   "source": [
    "# Высота матрицы (максимальное количество слов)\n",
    "TEXT_LENGTH = 1500\n",
    "\n",
    "# Размер словаря\n",
    "NUM = 80000\n",
    "\n",
    "def get_sequences(tokenizer, x):\n",
    "    sequences = tokenizer.texts_to_sequences(x)\n",
    "    return pad_sequences(sequences, maxlen=TEXT_LENGTH)\n",
    "\n",
    "#Cоздаем и обучаем токенизатор\n",
    "tokenizer = Tokenizer(num_words=NUM)\n",
    "tokenizer.fit_on_texts(X_train_w2v)\n",
    "\n",
    "# Отображаем каждый текст в массив идентификаторов токенов.\n",
    "x_train_seq = get_sequences(tokenizer, X_train_w2v)\n",
    "x_test_seq = get_sequences(tokenizer, X_test_w2v)"
   ]
  },
  {
   "cell_type": "code",
   "execution_count": 199,
   "metadata": {},
   "outputs": [],
   "source": [
    "# Переводим числа в категориальные\n",
    "y_train_w2v = to_categorical(y_train_w2v)\n",
    "# Переводим числа в категориальные\n",
    "y_test_w2v = to_categorical(y_test_w2v)"
   ]
  },
  {
   "cell_type": "code",
   "execution_count": 200,
   "metadata": {
    "scrolled": false
   },
   "outputs": [],
   "source": [
    "# Загружаем данные.\n",
    "data_wrod2vec = gensim.models.word2vec.LineSentence('DATA.txt')\n",
    "\n",
    "# Обучаем модель (размерность вектора 200)\n",
    "model_w2v = Word2Vec(data_wrod2vec, size=200, window=5, min_count=3, workers=multiprocessing.cpu_count())"
   ]
  },
  {
   "cell_type": "code",
   "execution_count": 201,
   "metadata": {},
   "outputs": [
    {
     "data": {
      "text/plain": [
       "[('hate', 0.6354060769081116),\n",
       " ('loved', 0.577600359916687),\n",
       " ('asleep', 0.5584490299224854),\n",
       " ('enjoy', 0.5270042419433594),\n",
       " ('adore', 0.4998621344566345),\n",
       " ('recommend', 0.4784364104270935),\n",
       " ('dislike', 0.4745352268218994),\n",
       " ('liked', 0.4710982143878937),\n",
       " ('pray', 0.4468879699707031),\n",
       " ('agree', 0.44642388820648193)]"
      ]
     },
     "execution_count": 201,
     "metadata": {},
     "output_type": "execute_result"
    }
   ],
   "source": [
    "# Топ слов, которые близки по смыслу.\n",
    "model_w2v.wv.most_similar(positive='love', topn=10)"
   ]
  },
  {
   "cell_type": "code",
   "execution_count": 202,
   "metadata": {},
   "outputs": [
    {
     "name": "stdout",
     "output_type": "stream",
     "text": [
      "41016\n"
     ]
    }
   ],
   "source": [
    "print(len(model_w2v.wv.vocab))"
   ]
  },
  {
   "cell_type": "code",
   "execution_count": 203,
   "metadata": {},
   "outputs": [
    {
     "name": "stdout",
     "output_type": "stream",
     "text": [
      "77787\n"
     ]
    }
   ],
   "source": [
    "print(len(tokenizer.word_index.items()))"
   ]
  },
  {
   "cell_type": "code",
   "execution_count": 206,
   "metadata": {},
   "outputs": [
    {
     "name": "stdout",
     "output_type": "stream",
     "text": [
      "__________________________________________________________________________________________________\n",
      "Layer (type)                    Output Shape         Param #     Connected to                     \n",
      "==================================================================================================\n",
      "input_10 (InputLayer)           (None, 1500)         0                                            \n",
      "__________________________________________________________________________________________________\n",
      "embedding_10 (Embedding)        (None, 1500, 200)    16000000    input_10[0][0]                   \n",
      "__________________________________________________________________________________________________\n",
      "dropout_7 (Dropout)             (None, 1500, 200)    0           embedding_10[0][0]               \n",
      "__________________________________________________________________________________________________\n",
      "conv1d_67 (Conv1D)              (None, 1499, 1)      401         dropout_7[0][0]                  \n",
      "__________________________________________________________________________________________________\n",
      "conv1d_68 (Conv1D)              (None, 1499, 1)      401         dropout_7[0][0]                  \n",
      "__________________________________________________________________________________________________\n",
      "conv1d_69 (Conv1D)              (None, 1499, 1)      401         dropout_7[0][0]                  \n",
      "__________________________________________________________________________________________________\n",
      "conv1d_70 (Conv1D)              (None, 1498, 1)      601         dropout_7[0][0]                  \n",
      "__________________________________________________________________________________________________\n",
      "conv1d_71 (Conv1D)              (None, 1498, 1)      601         dropout_7[0][0]                  \n",
      "__________________________________________________________________________________________________\n",
      "conv1d_72 (Conv1D)              (None, 1498, 1)      601         dropout_7[0][0]                  \n",
      "__________________________________________________________________________________________________\n",
      "conv1d_73 (Conv1D)              (None, 1497, 1)      801         dropout_7[0][0]                  \n",
      "__________________________________________________________________________________________________\n",
      "conv1d_74 (Conv1D)              (None, 1497, 1)      801         dropout_7[0][0]                  \n",
      "__________________________________________________________________________________________________\n",
      "conv1d_75 (Conv1D)              (None, 1497, 1)      801         dropout_7[0][0]                  \n",
      "__________________________________________________________________________________________________\n",
      "conv1d_76 (Conv1D)              (None, 1496, 1)      1001        dropout_7[0][0]                  \n",
      "__________________________________________________________________________________________________\n",
      "conv1d_77 (Conv1D)              (None, 1496, 1)      1001        dropout_7[0][0]                  \n",
      "__________________________________________________________________________________________________\n",
      "conv1d_78 (Conv1D)              (None, 1496, 1)      1001        dropout_7[0][0]                  \n",
      "__________________________________________________________________________________________________\n",
      "global_max_pooling1d_61 (Global (None, 1)            0           conv1d_67[0][0]                  \n",
      "__________________________________________________________________________________________________\n",
      "global_max_pooling1d_62 (Global (None, 1)            0           conv1d_68[0][0]                  \n",
      "__________________________________________________________________________________________________\n",
      "global_max_pooling1d_63 (Global (None, 1)            0           conv1d_69[0][0]                  \n",
      "__________________________________________________________________________________________________\n",
      "global_max_pooling1d_64 (Global (None, 1)            0           conv1d_70[0][0]                  \n",
      "__________________________________________________________________________________________________\n",
      "global_max_pooling1d_65 (Global (None, 1)            0           conv1d_71[0][0]                  \n",
      "__________________________________________________________________________________________________\n",
      "global_max_pooling1d_66 (Global (None, 1)            0           conv1d_72[0][0]                  \n",
      "__________________________________________________________________________________________________\n",
      "global_max_pooling1d_67 (Global (None, 1)            0           conv1d_73[0][0]                  \n",
      "__________________________________________________________________________________________________\n",
      "global_max_pooling1d_68 (Global (None, 1)            0           conv1d_74[0][0]                  \n",
      "__________________________________________________________________________________________________\n",
      "global_max_pooling1d_69 (Global (None, 1)            0           conv1d_75[0][0]                  \n",
      "__________________________________________________________________________________________________\n",
      "global_max_pooling1d_70 (Global (None, 1)            0           conv1d_76[0][0]                  \n",
      "__________________________________________________________________________________________________\n",
      "global_max_pooling1d_71 (Global (None, 1)            0           conv1d_77[0][0]                  \n",
      "__________________________________________________________________________________________________\n",
      "global_max_pooling1d_72 (Global (None, 1)            0           conv1d_78[0][0]                  \n",
      "__________________________________________________________________________________________________\n",
      "concatenate_4 (Concatenate)     (None, 12)           0           global_max_pooling1d_61[0][0]    \n",
      "                                                                 global_max_pooling1d_62[0][0]    \n",
      "                                                                 global_max_pooling1d_63[0][0]    \n",
      "                                                                 global_max_pooling1d_64[0][0]    \n",
      "                                                                 global_max_pooling1d_65[0][0]    \n",
      "                                                                 global_max_pooling1d_66[0][0]    \n",
      "                                                                 global_max_pooling1d_67[0][0]    \n",
      "                                                                 global_max_pooling1d_68[0][0]    \n",
      "                                                                 global_max_pooling1d_69[0][0]    \n",
      "                                                                 global_max_pooling1d_70[0][0]    \n",
      "                                                                 global_max_pooling1d_71[0][0]    \n",
      "                                                                 global_max_pooling1d_72[0][0]    \n",
      "__________________________________________________________________________________________________\n",
      "dropout_8 (Dropout)             (None, 12)           0           concatenate_4[0][0]              \n",
      "__________________________________________________________________________________________________\n",
      "dense_7 (Dense)                 (None, 30)           390         dropout_8[0][0]                  \n",
      "__________________________________________________________________________________________________\n",
      "dense_8 (Dense)                 (None, 2)            62          dense_7[0][0]                    \n",
      "__________________________________________________________________________________________________\n",
      "activation_4 (Activation)       (None, 2)            0           dense_8[0][0]                    \n",
      "==================================================================================================\n",
      "Total params: 16,008,864\n",
      "Trainable params: 8,864\n",
      "Non-trainable params: 16,000,000\n",
      "__________________________________________________________________________________________________\n"
     ]
    }
   ],
   "source": [
    "# В нашем случае 200.\n",
    "DIM = model_w2v.vector_size\n",
    "\n",
    "# Матрица: словарь*размер пространства.\n",
    "embedding_matrix = np.zeros((NUM, DIM))\n",
    "\n",
    "# Добавляем часто встречающиеся слова в embedding слой\n",
    "for word, i in tokenizer.word_index.items():\n",
    "    if i >= NUM:\n",
    "        break\n",
    "    if word in model_w2v.wv.vocab.keys():\n",
    "        embedding_matrix[i] = model_w2v.wv[word]\n",
    "\n",
    "# Размер входа 1500\n",
    "text_input = Input(shape=(TEXT_LENGTH,), dtype='int32')\n",
    "\n",
    "# Размер embedding слоя.\n",
    "text_encoder = Embedding(NUM, DIM, input_length=TEXT_LENGTH, weights=[embedding_matrix], trainable=False)(text_input)\n",
    "\n",
    "x = Dropout(0.2)(text_encoder)\n",
    "\n",
    "basket = []\n",
    "for size, filters in [(2, 3), (3, 3), (4, 3), (5, 3)]:\n",
    "    for i in range(filters):\n",
    "        \n",
    "        # Добавляем слой свертки.\n",
    "        branch = Conv1D(filters=1, kernel_size=size, padding='valid', activation='relu')(x)\n",
    "        \n",
    "        # Добавляем слой пулинга.\n",
    "        branch = GlobalMaxPooling1D()(branch)\n",
    "        basket.append(branch)\n",
    "\n",
    "# Сцепляем карты признаков.\n",
    "x = concatenate(basket, axis=1)\n",
    "\n",
    "# Добавляем dropout-регуляризацию\n",
    "x = Dropout(0.2)(x)\n",
    "x = Dense(30, activation='relu')(x)\n",
    "\n",
    "x = Dense(2)(x) \n",
    "output = Activation('softmax')(x)\n",
    "\n",
    "model_cnn = Model(inputs=[text_input], outputs=[output])\n",
    "model_cnn.compile(loss='binary_crossentropy', optimizer='adam', metrics=['accuracy'])\n",
    "model_cnn.summary()"
   ]
  },
  {
   "cell_type": "code",
   "execution_count": 207,
   "metadata": {},
   "outputs": [
    {
     "name": "stdout",
     "output_type": "stream",
     "text": [
      "Train on 15000 samples, validate on 5000 samples\n",
      "Epoch 1/10\n",
      "15000/15000 [==============================] - 775s 52ms/step - loss: 0.7258 - acc: 0.5719 - val_loss: 0.6209 - val_acc: 0.6664\n",
      "Epoch 2/10\n",
      "15000/15000 [==============================] - 749s 50ms/step - loss: 0.6098 - acc: 0.6667 - val_loss: 0.5469 - val_acc: 0.7352\n",
      "Epoch 3/10\n",
      "15000/15000 [==============================] - 747s 50ms/step - loss: 0.5396 - acc: 0.7267 - val_loss: 0.4703 - val_acc: 0.7826\n",
      "Epoch 4/10\n",
      "15000/15000 [==============================] - 739s 49ms/step - loss: 0.4897 - acc: 0.7607 - val_loss: 0.4306 - val_acc: 0.8028\n",
      "Epoch 5/10\n",
      "15000/15000 [==============================] - 794s 53ms/step - loss: 0.4499 - acc: 0.7816 - val_loss: 0.4078 - val_acc: 0.8184\n",
      "Epoch 6/10\n",
      "15000/15000 [==============================] - 807s 54ms/step - loss: 0.4380 - acc: 0.7930 - val_loss: 0.4058 - val_acc: 0.8150\n",
      "Epoch 7/10\n",
      "15000/15000 [==============================] - 771s 51ms/step - loss: 0.4263 - acc: 0.8013 - val_loss: 0.4056 - val_acc: 0.8228\n",
      "Epoch 8/10\n",
      "15000/15000 [==============================] - 743s 50ms/step - loss: 0.4152 - acc: 0.8077 - val_loss: 0.4013 - val_acc: 0.8236\n",
      "Epoch 9/10\n",
      "15000/15000 [==============================] - 791s 53ms/step - loss: 0.4094 - acc: 0.8112 - val_loss: 0.3943 - val_acc: 0.8224\n",
      "Epoch 10/10\n",
      "15000/15000 [==============================] - 781s 52ms/step - loss: 0.3987 - acc: 0.8182 - val_loss: 0.3864 - val_acc: 0.8218\n"
     ]
    }
   ],
   "source": [
    "early_stopping=EarlyStopping(monitor='val_loss')\n",
    "history = model_cnn.fit(x_train_seq, y_train_w2v, batch_size=32, epochs=10, validation_split=0.25, callbacks=[early_stopping], verbose=1)"
   ]
  },
  {
   "cell_type": "code",
   "execution_count": 215,
   "metadata": {},
   "outputs": [
    {
     "data": {
      "text/plain": [
       "array([0.5349902 , 0.46500978], dtype=float32)"
      ]
     },
     "execution_count": 215,
     "metadata": {},
     "output_type": "execute_result"
    }
   ],
   "source": [
    "predicted = np.round(model_cnn.predict(x_test_seq))\n",
    "predicted[1]"
   ]
  },
  {
   "cell_type": "code",
   "execution_count": 226,
   "metadata": {},
   "outputs": [
    {
     "name": "stdout",
     "output_type": "stream",
     "text": [
      "5000/5000 [==============================] - 106s 21ms/step\n",
      "\n",
      "\n",
      "Test loss value: 0.37265673112869263\n",
      "Test accuracy: 0.835\n"
     ]
    }
   ],
   "source": [
    "# Оценка модели CNN.\n",
    "score = model_cnn.evaluate(x_test_seq, y_test_w2v, verbose=1)\n",
    "print('\\n')\n",
    "print('Test loss value:', score[0])\n",
    "print('Test accuracy:', score[1])"
   ]
  }
 ],
 "metadata": {
  "kernelspec": {
   "display_name": "Python 3",
   "language": "python",
   "name": "python3"
  },
  "language_info": {
   "codemirror_mode": {
    "name": "ipython",
    "version": 3
   },
   "file_extension": ".py",
   "mimetype": "text/x-python",
   "name": "python",
   "nbconvert_exporter": "python",
   "pygments_lexer": "ipython3",
   "version": "3.6.5"
  }
 },
 "nbformat": 4,
 "nbformat_minor": 2
}
